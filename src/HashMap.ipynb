{
 "cells": [
  {
   "cell_type": "code",
   "execution_count": 1,
   "metadata": {},
   "outputs": [],
   "source": [
    "class HashMap(object):\n",
    "    def __init__(self, size=100):\n",
    "        self.size = size\n",
    "        self.keys = [[] for i in range(self.size)]\n",
    "        self.values = [[] for i in range(self.size)]\n",
    "    \n",
    "    \n",
    "    def put(self, key, value):\n",
    "        hashed = hash(key) % self.size\n",
    "        \n",
    "        try:\n",
    "            index = self.keys[hashed].index(key)\n",
    "        except ValueError:\n",
    "            index = -1\n",
    "        \n",
    "        if index < 0:\n",
    "            self.keys[hashed].append(key)\n",
    "            self.values[hashed].append(value)\n",
    "        else:\n",
    "            self.values[hashed][index] = value\n",
    "    \n",
    "    \n",
    "    def get(self, key):\n",
    "        hashed = hash(key) % self.size\n",
    "        \n",
    "        try:\n",
    "            index = self.keys[hashed].index(key)\n",
    "        except ValueError:\n",
    "            return None\n",
    "        \n",
    "        return self.values[hashed][index]\n",
    "    \n",
    "\n",
    "    def __getitem__(self,key):\n",
    "        return self.get(key)\n",
    "\n",
    "    \n",
    "    def __setitem__(self,key,data):\n",
    "        self.put(key,data)"
   ]
  },
  {
   "cell_type": "code",
   "execution_count": 2,
   "metadata": {},
   "outputs": [
    {
     "name": "stdout",
     "output_type": "stream",
     "text": [
      "20\n",
      "30\n",
      "None\n"
     ]
    }
   ],
   "source": [
    "if __name__ == '__main__':\n",
    "    hm = HashMap(10)\n",
    "    hm.put('Amy', 20)\n",
    "    hm['Bob'] = 30\n",
    "    hm.put('Chad', 40)\n",
    "    print(hm['Amy'])\n",
    "    print(hm.get('Bob'))\n",
    "    print(hm['David'])"
   ]
  },
  {
   "cell_type": "code",
   "execution_count": null,
   "metadata": {},
   "outputs": [],
   "source": []
  }
 ],
 "metadata": {
  "kernelspec": {
   "display_name": "Python 3",
   "language": "python",
   "name": "python3"
  },
  "language_info": {
   "codemirror_mode": {
    "name": "ipython",
    "version": 3
   },
   "file_extension": ".py",
   "mimetype": "text/x-python",
   "name": "python",
   "nbconvert_exporter": "python",
   "pygments_lexer": "ipython3",
   "version": "3.6.5"
  }
 },
 "nbformat": 4,
 "nbformat_minor": 2
}
