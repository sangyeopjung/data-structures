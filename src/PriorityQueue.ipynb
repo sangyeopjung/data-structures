{
 "cells": [
  {
   "cell_type": "code",
   "execution_count": 1,
   "metadata": {},
   "outputs": [],
   "source": [
    "from Heap import Heap\n",
    "\n",
    "class PriorityQueue(object):\n",
    "    def __init__(self, q=[]):\n",
    "        self.pq = Heap(q)\n",
    "        \n",
    "    \n",
    "    def __str__(self):\n",
    "        return self.pq.__str__()\n",
    "    \n",
    "    \n",
    "    def insert(self, value):\n",
    "        self.pq.insert(value)\n",
    "    \n",
    "    \n",
    "    def pop(self):\n",
    "        return self.pq.deleteMin()\n",
    "    \n",
    "    \n",
    "    def peek(self):\n",
    "        return self.pq.peek()"
   ]
  },
  {
   "cell_type": "code",
   "execution_count": 2,
   "metadata": {},
   "outputs": [
    {
     "name": "stdout",
     "output_type": "stream",
     "text": [
      "[1000, 11, 100, 1, 10]\n",
      "[100, 11, 10, 1]\n"
     ]
    }
   ],
   "source": [
    "if __name__ == '__main__':\n",
    "    pq = PriorityQueue()\n",
    "    pq.insert(10)\n",
    "    pq.insert(100)\n",
    "    pq.insert(1000)\n",
    "    pq.insert(1)\n",
    "    pq.insert(11)\n",
    "    print(pq)\n",
    "    pq.pop()\n",
    "    print(pq)"
   ]
  },
  {
   "cell_type": "code",
   "execution_count": null,
   "metadata": {},
   "outputs": [],
   "source": []
  }
 ],
 "metadata": {
  "kernelspec": {
   "display_name": "Python 3",
   "language": "python",
   "name": "python3"
  },
  "language_info": {
   "codemirror_mode": {
    "name": "ipython",
    "version": 3
   },
   "file_extension": ".py",
   "mimetype": "text/x-python",
   "name": "python",
   "nbconvert_exporter": "python",
   "pygments_lexer": "ipython3",
   "version": "3.6.5"
  }
 },
 "nbformat": 4,
 "nbformat_minor": 2
}
