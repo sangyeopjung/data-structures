{
 "cells": [
  {
   "cell_type": "code",
   "execution_count": 1,
   "metadata": {},
   "outputs": [],
   "source": [
    "def _findMinAndIndex(arr, i, j):\n",
    "    minimum = min(arr)\n",
    "    return minimum, arr.index(minimum)+1+i\n",
    "\n",
    "def optimalBst(f):\n",
    "    e = [[0 for _ in range(len(f))] for _ in range(len(f))]\n",
    "    root = [[0 for _ in range(len(f))] for _ in range(len(f))]\n",
    "    \n",
    "    for i in range(len(f)):\n",
    "        e[i][i] = f[i]\n",
    "        root[i][i] = i+1\n",
    "    \n",
    "    for l in range(2, len(f)+1):\n",
    "        for i in range(len(f)-l+1):\n",
    "            j = i+l-1\n",
    "            e[i][j], root[i][j] = _findMinAndIndex([\n",
    "                        (e[i][r-1] if r>i else 0) \n",
    "                        + (e[r+1][j] if r<j else 0) \n",
    "                        + sum(f[i:j+1]) \n",
    "                        for r in range(i, j+1)], i, j)\n",
    "    return e, root"
   ]
  },
  {
   "cell_type": "code",
   "execution_count": 2,
   "metadata": {},
   "outputs": [],
   "source": [
    "f = [3, 7, 1, 8, 4, 3, 2, 10]\n",
    "e, root = optimalBst(f)"
   ]
  },
  {
   "cell_type": "code",
   "execution_count": 3,
   "metadata": {},
   "outputs": [
    {
     "data": {
      "text/plain": [
       "[[3, 13, 15, 32, 42, 51, 58, 87],\n",
       " [0, 7, 9, 25, 33, 42, 49, 78],\n",
       " [0, 0, 1, 10, 18, 27, 34, 60],\n",
       " [0, 0, 0, 8, 16, 25, 32, 57],\n",
       " [0, 0, 0, 0, 4, 10, 15, 34],\n",
       " [0, 0, 0, 0, 0, 3, 7, 22],\n",
       " [0, 0, 0, 0, 0, 0, 2, 14],\n",
       " [0, 0, 0, 0, 0, 0, 0, 10]]"
      ]
     },
     "execution_count": 3,
     "metadata": {},
     "output_type": "execute_result"
    }
   ],
   "source": [
    "e"
   ]
  },
  {
   "cell_type": "code",
   "execution_count": 4,
   "metadata": {},
   "outputs": [
    {
     "data": {
      "text/plain": [
       "[[1, 2, 2, 2, 4, 4, 4, 4],\n",
       " [0, 2, 2, 4, 4, 4, 4, 4],\n",
       " [0, 0, 3, 4, 4, 4, 4, 5],\n",
       " [0, 0, 0, 4, 4, 4, 4, 5],\n",
       " [0, 0, 0, 0, 5, 5, 6, 8],\n",
       " [0, 0, 0, 0, 0, 6, 6, 8],\n",
       " [0, 0, 0, 0, 0, 0, 7, 8],\n",
       " [0, 0, 0, 0, 0, 0, 0, 8]]"
      ]
     },
     "execution_count": 4,
     "metadata": {},
     "output_type": "execute_result"
    }
   ],
   "source": [
    "root"
   ]
  },
  {
   "cell_type": "code",
   "execution_count": 5,
   "metadata": {},
   "outputs": [],
   "source": [
    "def maxSubarray(a):\n",
    "    ma = 0\n",
    "    su = 0\n",
    "    start = 0\n",
    "    end = 0\n",
    "    s = 0\n",
    "    \n",
    "    for i in range(len(a)):\n",
    "        su += a[i]\n",
    "        if ma < su:\n",
    "            ma = su\n",
    "            start = s\n",
    "            end = i\n",
    "        \n",
    "        if su < 0:\n",
    "            su = 0\n",
    "            s = i+1\n",
    "        \n",
    "    return ma, (start, end)"
   ]
  },
  {
   "cell_type": "code",
   "execution_count": 6,
   "metadata": {},
   "outputs": [
    {
     "data": {
      "text/plain": [
       "[2, 6, 3, -4, -3, -1, -7, 8, 7, -5, -8, -2, -9, 0, 9, 5, -10, 1, 4, -6]"
      ]
     },
     "execution_count": 6,
     "metadata": {},
     "output_type": "execute_result"
    }
   ],
   "source": [
    "li = [i for i in range(-10, 10)]\n",
    "import random\n",
    "random.shuffle(li)\n",
    "li"
   ]
  },
  {
   "cell_type": "code",
   "execution_count": 7,
   "metadata": {},
   "outputs": [],
   "source": [
    "ma, ind = maxSubarray(li)"
   ]
  },
  {
   "cell_type": "code",
   "execution_count": 8,
   "metadata": {},
   "outputs": [
    {
     "data": {
      "text/plain": [
       "15"
      ]
     },
     "execution_count": 8,
     "metadata": {},
     "output_type": "execute_result"
    }
   ],
   "source": [
    "ma"
   ]
  },
  {
   "cell_type": "code",
   "execution_count": 9,
   "metadata": {},
   "outputs": [
    {
     "data": {
      "text/plain": [
       "(7, 8)"
      ]
     },
     "execution_count": 9,
     "metadata": {},
     "output_type": "execute_result"
    }
   ],
   "source": [
    "ind"
   ]
  },
  {
   "cell_type": "code",
   "execution_count": 10,
   "metadata": {},
   "outputs": [],
   "source": [
    "def twoBagsKnapsack(W, V, C1, C2):\n",
    "    n = len(W)\n",
    "    val = [[[0 for _ in range(C2+1)] for _ in range(C1+1)] for _ in range(n+1)]\n",
    "    keep = [[[0 for _ in range(C2+1)] for _ in range(C1+1)] for _ in range(n+1)]\n",
    "    \n",
    "    for i in range(1, n+1):\n",
    "        for w1 in range(C1+1):\n",
    "            for w2 in range(C2+1):\n",
    "                val[i][w1][w2] = val[i-1][w1][w2]\n",
    "                \n",
    "                if W[i-1] <= w1 and val[i][w1][w2] < val[i-1][w1-W[i-1]][w2]+V[i-1]:\n",
    "                    val[i][w1][w2] = val[i-1][w1-W[i-1]][w2]+V[i-1]\n",
    "                    keep[i][w1][w2] = 1\n",
    "                    \n",
    "                if W[i-1] <= w2 and val[i][w1][w2] < val[i-1][w1][w2-W[i-1]]+V[i-1]:\n",
    "                    val[i][w1][w2] = val[i-1][w1][w2-W[i-1]]+V[i-1]\n",
    "                    keep[i][w1][w2] = 2\n",
    "                    \n",
    "    _printKeep(keep, W, n, C1, C2)\n",
    "    \n",
    "    return val[n][C1][C2]\n",
    "\n",
    "\n",
    "def _printKeep(keep, W, n, C1, C2):\n",
    "    if n < 0 or C1 < 0 or C2 < 0:\n",
    "        return\n",
    "    \n",
    "    k = keep[n][C1][C2]\n",
    "    if k == 0:\n",
    "        _printKeep(keep, W, n-1, C1, C2)\n",
    "    elif k == 1:\n",
    "        _printKeep(keep, W, n-1, C1-W[n-1], C2)\n",
    "        print(\"take {} in knapsack {}\".format(W[n-1], 1))\n",
    "    elif k == 2:\n",
    "        _printKeep(keep, W, n-1, C1, C2-W[n-1])\n",
    "        print(\"take {} in knapsack {}\".format(W[n-1], 2))"
   ]
  },
  {
   "cell_type": "code",
   "execution_count": 11,
   "metadata": {},
   "outputs": [
    {
     "name": "stdout",
     "output_type": "stream",
     "text": [
      "take 1 in knapsack 2\n",
      "take 2 in knapsack 2\n",
      "take 3 in knapsack 1\n",
      "take 4 in knapsack 2\n",
      "take 5 in knapsack 2\n",
      "take 9 in knapsack 1\n"
     ]
    },
    {
     "data": {
      "text/plain": [
       "24"
      ]
     },
     "execution_count": 11,
     "metadata": {},
     "output_type": "execute_result"
    }
   ],
   "source": [
    "W = [1, 2, 3, 4, 5, 7, 9]\n",
    "V = [1, 2, 3, 4, 5, 7, 9]\n",
    "C = 12\n",
    "twoBagsKnapsack(W, V, C, C)"
   ]
  },
  {
   "cell_type": "code",
   "execution_count": 12,
   "metadata": {},
   "outputs": [],
   "source": [
    "def editDistance(x, y, copy, ins, delete):\n",
    "    n = len(x)\n",
    "    m = len(y)\n",
    "    D = [[float(\"inf\") for _ in range(m+1)] for _ in range(n+1)] \n",
    "    \n",
    "    for i in range(n+1):\n",
    "        D[i][0] = delete * i\n",
    "    for j in range(m+1):\n",
    "        D[0][j] = ins * j\n",
    "    \n",
    "    for i in range(1, n+1):\n",
    "        for j in range(1, m+1):\n",
    "            D[i][j] = min(D[i][j], D[i-1][j] + delete, D[i][j-1] + ins)\n",
    "            if x[i-1] == y[j-1]:\n",
    "                D[i][j] = min(D[i][j], D[i-1][j-1] + copy)\n",
    "    \n",
    "    return D[n][m]"
   ]
  },
  {
   "cell_type": "code",
   "execution_count": 13,
   "metadata": {},
   "outputs": [
    {
     "data": {
      "text/plain": [
       "27"
      ]
     },
     "execution_count": 13,
     "metadata": {},
     "output_type": "execute_result"
    }
   ],
   "source": [
    "editDistance(\"algorithm\", \"altruistic\", 1, 2, 3)"
   ]
  },
  {
   "cell_type": "code",
   "execution_count": null,
   "metadata": {},
   "outputs": [],
   "source": []
  }
 ],
 "metadata": {
  "kernelspec": {
   "display_name": "Python 3",
   "language": "python",
   "name": "python3"
  },
  "language_info": {
   "codemirror_mode": {
    "name": "ipython",
    "version": 3
   },
   "file_extension": ".py",
   "mimetype": "text/x-python",
   "name": "python",
   "nbconvert_exporter": "python",
   "pygments_lexer": "ipython3",
   "version": "3.6.5"
  }
 },
 "nbformat": 4,
 "nbformat_minor": 2
}
