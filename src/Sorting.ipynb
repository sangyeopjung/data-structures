{
 "cells": [
  {
   "cell_type": "code",
   "execution_count": 1,
   "metadata": {},
   "outputs": [],
   "source": [
    "def bubbleSort(array):\n",
    "    operations = 0\n",
    "    for i in range(len(array)-1):\n",
    "        for j in range(len(array)-1-i):\n",
    "            operations += 1\n",
    "            if array[j] > array[j+1]:\n",
    "                array[j], array[j+1] = array[j+1], array[j]\n",
    "    return operations, array\n",
    "\n",
    "\n",
    "def insertionSort(array):\n",
    "    operations = 0\n",
    "    for i in range(1, len(array)):\n",
    "        current = array[i]\n",
    "        j = i-1\n",
    "        while array[j] > current and j >= 0:\n",
    "            operations += 1\n",
    "            array[j+1] = array[j]\n",
    "            j-=1\n",
    "        array[j+1] = current\n",
    "    return operations, array\n",
    "\n",
    "\n",
    "def selectionSort(array):\n",
    "    operations = 0\n",
    "    for i in range(len(array)-1):\n",
    "        minid = i\n",
    "        for j in range(i+1, len(array)):\n",
    "            operations += 1\n",
    "            if array[minid] > array[j]:\n",
    "                minid = j\n",
    "        array[i], array[minid] = array[minid], array[i]\n",
    "    return operations, array\n",
    "\n",
    "        \n",
    "def mergeSort(array):\n",
    "    if len(array) < 2:\n",
    "        return 0, array\n",
    "    \n",
    "    mid = len(array) // 2\n",
    "    oper_l, left = mergeSort(array[:mid])\n",
    "    oper_r, right = mergeSort(array[mid:])\n",
    "    oper_m, merged = _merge(left, right)\n",
    "    \n",
    "    return oper_l+oper_r+oper_m, merged\n",
    "\n",
    "\n",
    "def _merge(left, right):\n",
    "    operations = 0\n",
    "    result = []\n",
    "    i, j = 0, 0\n",
    "    while i < len(left) and j < len(right):\n",
    "        operations += 1\n",
    "        if left[i] <= right[j]:\n",
    "            result.append(left[i])\n",
    "            i += 1\n",
    "        else:\n",
    "            result.append(right[j])\n",
    "            j += 1\n",
    "    \n",
    "    if i == len(left):\n",
    "        result.extend(right[j:])\n",
    "        operations += 1\n",
    "    elif j == len(right):\n",
    "        result.extend(left[i:])\n",
    "        operations += 1\n",
    "\n",
    "    return operations, result\n",
    "\n",
    "\n",
    "qsOper = 0\n",
    "def quickSort(array, low=0, high=None):\n",
    "    global qsOper\n",
    "    \n",
    "    if high is None:\n",
    "        qsOper = 0\n",
    "        high = len(array)-1\n",
    "    \n",
    "    if low < high:\n",
    "        index = _partition(array, low, high)\n",
    "        quickSort(array, low, index-1)\n",
    "        quickSort(array, index+1, high)\n",
    "    \n",
    "    return qsOper, array\n",
    "\n",
    "\n",
    "def _partition(array, low, high):\n",
    "    global qsOper\n",
    "    \n",
    "    pivot = array[high]\n",
    "    \n",
    "    i = low-1\n",
    "    for j in range(low, high):\n",
    "        qsOper += 1\n",
    "        if array[j] < pivot:\n",
    "            i += 1\n",
    "            array[i], array[j] = array[j], array[i]\n",
    "         \n",
    "    i += 1   \n",
    "    array[i], array[high] = array[high], array[i]\n",
    "    return i"
   ]
  },
  {
   "cell_type": "code",
   "execution_count": 2,
   "metadata": {},
   "outputs": [],
   "source": [
    "import random\n",
    "array = [i for i in range(10000)]\n",
    "random.shuffle(array)"
   ]
  },
  {
   "cell_type": "code",
   "execution_count": 3,
   "metadata": {
    "scrolled": true
   },
   "outputs": [
    {
     "data": {
      "text/plain": [
       "49995000"
      ]
     },
     "execution_count": 3,
     "metadata": {},
     "output_type": "execute_result"
    }
   ],
   "source": [
    "bubbleSort(array[:])[0]"
   ]
  },
  {
   "cell_type": "code",
   "execution_count": 4,
   "metadata": {
    "scrolled": true
   },
   "outputs": [
    {
     "data": {
      "text/plain": [
       "25232415"
      ]
     },
     "execution_count": 4,
     "metadata": {},
     "output_type": "execute_result"
    }
   ],
   "source": [
    "insertionSort(array[:])[0]"
   ]
  },
  {
   "cell_type": "code",
   "execution_count": 5,
   "metadata": {
    "scrolled": true
   },
   "outputs": [
    {
     "data": {
      "text/plain": [
       "49995000"
      ]
     },
     "execution_count": 5,
     "metadata": {},
     "output_type": "execute_result"
    }
   ],
   "source": [
    "selectionSort(array[:])[0]"
   ]
  },
  {
   "cell_type": "code",
   "execution_count": 6,
   "metadata": {
    "scrolled": true
   },
   "outputs": [
    {
     "data": {
      "text/plain": [
       "130451"
      ]
     },
     "execution_count": 6,
     "metadata": {},
     "output_type": "execute_result"
    }
   ],
   "source": [
    "mergeSort(array[:])[0]"
   ]
  },
  {
   "cell_type": "code",
   "execution_count": 7,
   "metadata": {},
   "outputs": [
    {
     "data": {
      "text/plain": [
       "153080"
      ]
     },
     "execution_count": 7,
     "metadata": {},
     "output_type": "execute_result"
    }
   ],
   "source": [
    "quickSort(array[:])[0]"
   ]
  },
  {
   "cell_type": "code",
   "execution_count": null,
   "metadata": {},
   "outputs": [],
   "source": []
  }
 ],
 "metadata": {
  "kernelspec": {
   "display_name": "Python 3",
   "language": "python",
   "name": "python3"
  },
  "language_info": {
   "codemirror_mode": {
    "name": "ipython",
    "version": 3
   },
   "file_extension": ".py",
   "mimetype": "text/x-python",
   "name": "python",
   "nbconvert_exporter": "python",
   "pygments_lexer": "ipython3",
   "version": "3.6.5"
  }
 },
 "nbformat": 4,
 "nbformat_minor": 2
}
