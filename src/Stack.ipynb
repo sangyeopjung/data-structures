{
 "cells": [
  {
   "cell_type": "code",
   "execution_count": 2,
   "metadata": {},
   "outputs": [],
   "source": [
    "from LinkedList import LinkedList\n",
    "\n",
    "class Stack(object):\n",
    "    def __init__(self, arr=[]):\n",
    "        self.stack = LinkedList(arr)\n",
    "        \n",
    "    \n",
    "    def __str__(self):\n",
    "        return self.stack.__str__()\n",
    "        \n",
    "    \n",
    "    def getSize(self):\n",
    "        return self.stack.getLength()\n",
    "    \n",
    "    \n",
    "    def push(self, val):\n",
    "        self.stack.push(val)\n",
    "        \n",
    "    \n",
    "    def pop(self):\n",
    "        return self.stack.pop()\n",
    "    \n",
    "    \n",
    "    def peek(self):\n",
    "        return self.stack.get(0)"
   ]
  },
  {
   "cell_type": "code",
   "execution_count": 3,
   "metadata": {},
   "outputs": [
    {
     "name": "stdout",
     "output_type": "stream",
     "text": [
      "Initialising stack [1, 2, 3]\n",
      "[1, 2, 3]\n",
      "push 4\n",
      "[4, 1, 2, 3]\n",
      "peek\n",
      "4\n",
      "pop 2 times\n",
      "4\n",
      "1\n",
      "[2, 3]\n"
     ]
    }
   ],
   "source": [
    "if __name__ == '__main__':\n",
    "    print(\"Initialising stack [1, 2, 3]\")\n",
    "    s = Stack([1, 2, 3])\n",
    "    print(s)\n",
    "    print(\"push 4\")\n",
    "    s.push(4)\n",
    "    print(s)\n",
    "    print(\"peek\")\n",
    "    print(s.peek())\n",
    "    print(\"pop 2 times\")\n",
    "    print(s.pop())\n",
    "    print(s.pop())\n",
    "    print(s)"
   ]
  },
  {
   "cell_type": "code",
   "execution_count": null,
   "metadata": {},
   "outputs": [],
   "source": []
  }
 ],
 "metadata": {
  "kernelspec": {
   "display_name": "Python 3",
   "language": "python",
   "name": "python3"
  },
  "language_info": {
   "codemirror_mode": {
    "name": "ipython",
    "version": 3
   },
   "file_extension": ".py",
   "mimetype": "text/x-python",
   "name": "python",
   "nbconvert_exporter": "python",
   "pygments_lexer": "ipython3",
   "version": "3.6.5"
  }
 },
 "nbformat": 4,
 "nbformat_minor": 2
}
